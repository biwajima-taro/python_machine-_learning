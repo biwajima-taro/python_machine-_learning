{
 "cells": [
  {
   "cell_type": "code",
   "execution_count": null,
   "metadata": {},
   "outputs": [],
   "source": [
    "import numpy as np\n",
    "import matplotlib.pyplot as plt\n",
    "from numpy.random import randn\n",
    "\n",
    "def min_sq(x.y):\n",
    "    x_bar,y_bar=np.mean(x),np.mean(y)\n",
    "    $normはノルムを求める\n",
    "    beta1=np.dot(x-x_bar,y-y_bar)/np.lianlg.norm(x-x_bar)**2\n",
    "    beta0=y_bar-beta1*x_bar\n",
    "    return beta1,beta0\n",
    "\n",
    "N=100\n",
    "a=np.random.normal(2,1,100)\n",
    "b=randn(1)\n",
    "x=randn(N)\n",
    "y=a*x+b+randn(N)\n",
    "a1,b1=min_sq(x,y)\n",
    "x\n",
    "\n"
   ]
  }
 ],
 "metadata": {
  "kernelspec": {
   "display_name": "Python 3",
   "language": "python",
   "name": "python3"
  },
  "language_info": {
   "codemirror_mode": {
    "name": "ipython",
    "version": 3
   },
   "file_extension": ".py",
   "mimetype": "text/x-python",
   "name": "python",
   "nbconvert_exporter": "python",
   "pygments_lexer": "ipython3",
   "version": "3.7.4"
  }
 },
 "nbformat": 4,
 "nbformat_minor": 4
}
