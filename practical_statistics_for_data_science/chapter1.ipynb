{
 "cells": [
  {
   "cell_type": "code",
   "execution_count": 10,
   "metadata": {},
   "outputs": [
    {
     "name": "stdout",
     "output_type": "stream",
     "text": [
      "<class 'pandas.core.frame.DataFrame'>\n",
      "RangeIndex: 50 entries, 0 to 49\n",
      "Data columns (total 4 columns):\n",
      " #   Column        Non-Null Count  Dtype  \n",
      "---  ------        --------------  -----  \n",
      " 0   State         50 non-null     object \n",
      " 1   Population    50 non-null     int64  \n",
      " 2   Murder.Rate   50 non-null     float64\n",
      " 3   Abbreviation  50 non-null     object \n",
      "dtypes: float64(1), int64(1), object(2)\n",
      "memory usage: 1.7+ KB\n",
      "50\n",
      "(50, 4)\n",
      "######################################\n",
      "<class 'pandas.core.frame.DataFrame'>\n",
      "6162876.3\n",
      "4783697.125\n",
      "6162876.3\n"
     ]
    }
   ],
   "source": [
    "import pandas as pd\n",
    "from scipy.stats import trim_mean\n",
    "state=pd.read_csv(\"data/state.csv\")\n",
    "state.info()\n",
    "print(len(state))\n",
    "print(state.shape)\n",
    "print(\"######################################\")\n",
    "print(type(state))\n",
    "print(state[\"Population\"].mean())\n",
    "print(trim_mean(state[\"Population\"],0.1))\n",
    "print(state[\"Population\"].mean())"
   ]
  }
 ],
 "metadata": {
  "kernelspec": {
   "display_name": "Python 3",
   "language": "python",
   "name": "python3"
  },
  "language_info": {
   "codemirror_mode": {
    "name": "ipython",
    "version": 3
   },
   "file_extension": ".py",
   "mimetype": "text/x-python",
   "name": "python",
   "nbconvert_exporter": "python",
   "pygments_lexer": "ipython3",
   "version": "3.9.1"
  }
 },
 "nbformat": 4,
 "nbformat_minor": 4
}
